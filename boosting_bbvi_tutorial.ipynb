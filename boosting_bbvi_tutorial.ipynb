{
 "cells": [
  {
   "cell_type": "markdown",
   "metadata": {},
   "source": [
    "# Boosting Black Box Variational Inference\n",
    "## Introduction\n",
    "This tutorial demonstrates how to implement boosting black box Variational Inference [1] in Pyro. In boosting Variational Inference [2], we approximate a target distribution with an iteratively selected mixture of densities. In cases where a single denisity provided by regular Variational Inference doesn't adequately approximate a target density, boosting VI thus offers a simple way of getting more complex approximations. We show how this can be implement as a relatively straightforward extension of Pyro's SVI.\n",
    "\n",
    "## Contents\n",
    "* [Theoretical Background](#theoretical-background)\n",
    "    - [Variational Inference](#variational-inference)\n",
    "    - [Boosting Black Box Variational Inference](#bbbvi)\n",
    "* [BBBVI in Pyro](#bbbvi-pyro)\n",
    "    - [The Model](#the-model)\n",
    "    - [The Guide](#the-guide)\n",
    "    - [The Relbo](#the-relbo)\n",
    "    - [The Approximation](#the-approximation)\n",
    "    - [The Greedy Algorithm](#the-greedy-algorithm)"
   ]
  },
  {
   "cell_type": "markdown",
   "metadata": {},
   "source": [
    "## Theoretical Background <a class=\"anchor\" id=\"theoretical-background\"></a>\n",
    "\n",
    "### Variational Inference <a class=\"anchor\" id=\"variational-inference\"></a>\n",
    "For an introduction to regular Variational Inference, we recommend having a look at [the tutorial on SVI in Pyro](https://pyro.ai/examples/svi_part_i.html) and this excellent review [3].\n",
    "\n",
    "Briefly, Variational Inference allows us to find approximations of probability densities which are intractable to compute analytically. For instance, one might have observed variables $\\textbf{x}$, latent variables $\\textbf{z}$ and a joint distribution $p(\\textbf{x}, \\textbf{z})$. One can then use Variational Inference to approximate $p(\\textbf{z}|\\textbf{x})$. To do so, one first chooses a set of tractable densities, a variational family, and then tries to find the element of this set which most closely approximates the target distribution $p(\\textbf{z}|\\textbf{x})$.\n",
    "This approximating density is found by maximizing the Evidence Lower BOund (ELBO):\n",
    "$$ \\mathbb{E}_s[\\text{log} p(\\mathbf{x}, \\mathbf{z})] - \\mathbb{E}_s[\\text{log} s(\\mathbf{z})]$$\n",
    "\n",
    "where $s(\\mathbf{z})$ is the approximating density.\n",
    "\n",
    "### Boosting Black Box Variational Inference <a class=\"anchor\" id=\"bbbvi\"></a>\n",
    "\n",
    "In boosting black box Variational inference (BBBVI), we approximate the target density with a mixture of densities from the variational family:\n",
    "$$q^T(\\mathbb{z}) = \\sum_{t=1}^T \\gamma_t s_t(\\mathbf{z})$$\n",
    "\n",
    "$$\\text{where} \\sum_{t=1}^T \\gamma_t =1$$\n",
    "\n",
    "and $s_t(\\mathbf{z})$ are elements of the variational family.\n",
    "\n",
    "The components of the approximation are selected greedily by maximising the so-called Residual ELBO (RELBO) with respect to the next component $s_{t+1}(\\mathbf{z})$:\n",
    "\n",
    "$$\\mathbb{E}_s[\\text{log} p(\\mathbf{x},\\mathbf{z})] - \\lambda \\mathbb{E}_s[\\text{log}s(\\mathbf{z})] - \\mathbb{E}_s[\\text{log} q^t(\\mathbf{z})]$$\n",
    "\n",
    "Where the first two terms are the same as in the ELBO and the last term is the cross entropy between the next component $s_{t+1}(\\mathbf{z})$ and the current approximation $q^t(\\mathbf{z})$.\n",
    "\n",
    "It's called *black box* Variational Inference because this optimization does not have to be tailored to the variational family which is being used. By setting $\\lambda$ (the regularization factor of the entropy term) to 1, standard SVI methods can be used to compute $\\mathbb{E}_s[\\text{log} p(\\mathbf{x}, \\mathbf{z})] - \\lambda \\mathbb{E}_s[\\text{log}s(\\mathbf{z})]$. See the explanation of [the section on the implementation of the RELBO](#the-relbo) below for an explanation of how we compute the term  $- \\mathbb{E}_s[\\text{log} q^t(\\mathbf{z})]$. Imporantly, we do not need to make any additional assumptions about the variational family that's being used to ensure that this algorithm converges. \n",
    "\n",
    "In [1], a number of different ways of finding the mixture weights $\\gamma_t$ are suggested, ranging from fixed step sizes based on the iteration to solving the optimisation problem of finding $\\gamma_t$ that will minimise the RELBO. Here, we used the fixed step size method.",
    "\n",
    "For more details on the theory behind boosting black box variational inference, please refer to [1].",
   ]
  },
  {
   "cell_type": "markdown",
   "metadata": {},
   "source": [
    "## BBBVI in Pyro <a class=\"anchor\" id=\"bbbvi-pyro\"></a>"
   ]
  },
  {
   "cell_type": "markdown",
   "metadata": {},
   "source": [
    "To implement boosting black box variational inference in Pyro, we need to consider the following points:\n",
    "1. The approximation components $s_{t}(\\mathbf{z})$ (guides).\n",
    "2. The RELBO.\n",    
    "3. The approximation itself $q^t(\\mathbf{z})$.\n",
    "4. Using Pyro's SVI to find new components of the approximation.\n",
    "\n",
    "We will illustrate these points by looking at simple example: approximating a bimodal posterior.\n"
   ]
  },
  {
   "cell_type": "markdown",
   "metadata": {},
   "source": [
    "### The Model <a class=\"anchor\" id=\"the-model\"></a>\n",
    "\n",
    "Boosting BBVI is particularly useful when we want to approximate mulitmodal distributions. In this tutorial, we'll thus consider the following model:\n",
    " \n",
    " $$\\mu \\sim \\mathcal{N}(0,5)$$\n",
    " $$y \\sim \\mathcal{N}(\\mu^2, 0.1)$$\n",
    " \n",
    "Here, $\mu$ is the latent and $y$ the observed variable. Given the set of iid. observations $\\mathbb{y} = \[4.0, 4.2, 3.9, 4.1, 3.8, 3.5, 4.3\]$, we thus expect $p(\\mu|y)$ to be a bimodal distributions with modes around $-2$ and $2$.\n",
    " \n",
    "In Pyro, this model takes the following shape:"
   ]
  },
  {
   "cell_type": "code",
   "execution_count": 26,
   "metadata": {},
   "outputs": [],
   "source": [
    "def model(data):\n",
    "    prior_loc = torch.tensor([0.])\n",
    "    prior_scale = torch.tensor([5.])\n",
    "    loc = pyro.sample('loc', dist.Normal(prior_loc, prior_scale))\n",
    "    scale = torch.tensor([0.1])\n",
    "\n",
    "    with pyro.plate('data', len(data)):\n",
    "        pyro.sample('obs', dist.Normal(loc*loc, scale), obs=data)"
   ]
  },
  {
   "cell_type": "markdown",
   "metadata": {},
   "source": [
    "### The Guide <a class=\"anchor\" id=\"the-guide\"></a>\n",
    "\n",
    "Next, we specify the guide which in our case will make up the components of our mixture. Recall that in Pyro the guide needs to take the same arguments as the model which is why our guide function also takes the data as an input. \n",
    "\n",
    "We also need to make sure that every `pyro.sample()` statement from the model has a matching `pyro.sample()` statement in the guide. In our case, we include `loc` in both the model and the guide.\n",
    "\n",
    "In contrast to regular SVI, our guide takes an additional argument: `index`. Having this argument allows us to easily create new guides in each iteration of the greedy algorithm. Specifically, we make use of `partial()` from the [functools library](https://docs.python.org/3.7/library/functools.html) to create guides which only take `data` as an argument. The statement `partial(guide, index=t)` creates a guide that will take only `data` as an input and which has trainable parameters `scale_t` and `loc_t`.\n",
    "\n",
    "Choosing our variational distribution to be a Normal distribution parameterized by $loc_t$ and $scale_t$ we get the following guide:"
   ]
  },
  {
   "cell_type": "code",
   "execution_count": 6,
   "metadata": {},
   "outputs": [],
   "source": [
    "def guide(data, index):\n",
    "    scale_q = pyro.param('scale_{}'.format(index), torch.tensor([1.0]), constraints.positive)\n",
    "    loc_q = pyro.param('loc_{}'.format(index), torch.tensor([0.0]))\n",
    "    pyro.sample(\"loc\", dist.Normal(loc_q, scale_q))"
   ]
  },
  {
   "cell_type": "markdown",
   "metadata": {},
   "source": [
    "### The RELBO <a class=\"anchor\" id=\"the-relbo\"></a>\n",
    "\n",
    "We implement the RELBO as a function which can be passed to Pyro's SVI class in place of ELBO to find the approximation components $s_t(z)$. Recall that the RELBO has the following form:\n",
    "$$\\mathbb{E}_s[\\text{log} p(\\mathbf{x},\\mathbf{z})] - \\lambda \\mathbb{E}_s[\\text{log}s(\\mathbf{z})] - \\mathbb{E}_s[\\text{log} q^t(\\mathbf{z})]$$\n",
    "\n",
    "Conveniently, this is very similar to the regular ELBO which allows us to reuse Pyro's existing ELBO. Specifically, we compute \n",
    "$$E_s[\\text{log} p(x,z)] - \\lambda E_s[\\text{log}s]$$\n",
    "using Pyro's `Trace_ELBO` and then compute \n",
    "$$ - E_s[\\text{log} q^t]$$\n",
    "using Poutine. For more information on how this works, we recommend going through the Pyro tutorials [on Poutine](https://pyro.ai/examples/effect_handlers.html) and [custom SVI objectives](https://pyro.ai/examples/custom_objectives.html)."
   ]
  },
  {
   "cell_type": "code",
   "execution_count": 22,
   "metadata": {},
   "outputs": [],
   "source": [
    "def relbo(model, guide, *args, **kwargs):\n",
    "\n",
    "    approximation = kwargs.pop('approximation', None)\n",
    "    # Run the guide with the arguments passed to SVI.step() and trace the execution,\n",
    "    # i.e. record all the calls to Pyro primitives like sample() and param().\n",
    "    guide_trace = trace(guide).get_trace(*args, **kwargs)\n",
    "\n",
    "    # We do not want to update parameters of previously fitted components and thus block all\n",
    "    # parameters in the approximation apart from loc.\n",
    "    replayed_approximation = trace(replay(block(approximation, expose=['loc']), guide_trace))\n",
    "    approximation_trace = replayed_approximation.get_trace(*args, **kwargs)\n",
    "\n",
    "    loss_fn = pyro.infer.Trace_ELBO(max_plate_nesting=1).differentiable_loss(model,\n",
    "                                                                             guide,\n",
    "                                                                             *args,\n",
    "                                                                             **kwargs)\n",
    "\n",
    "    elbo = -loss_fn - approximation_trace.log_prob_sum()\n",
    "\n",
    "    return -elbo"
   ]
  },
  {
   "cell_type": "markdown",
   "metadata": {},
   "source": [
    "### The Approximation <a class=\"anchor\" id=\"the-approximation\"></a>"
   ]
  },
  {
   "cell_type": "markdown",
   "metadata": {},
   "source": [
    "Our implementation of the approximation $q^T(z) = \\sum_{t=1}^T \\gamma_t s_t(z)$ consists of a list of components, i.e. the guides from the greedy selection steps, and a list containing the mixture weights of the components. To sample from the approximation, we thus first sample a component according to the mixture weights. In a second step, we draw a sample from the corresponding component.\n",
    "\n",
    "Similarly as with the guide, we use `partial(approximation, components=components, weights=weights)` to get an approximation function which has the same signature as the model."
   ]
  },
  {
   "cell_type": "code",
   "execution_count": 169,
   "metadata": {},
   "outputs": [],
   "source": [
    "def approximation(data, components, weights):\n",
    "    assignment = pyro.sample('assignment', dist.Categorical(weights))\n",
    "    result = components[assignment](data)\n",
    "    return result        "
   ]
  },
  {
   "cell_type": "markdown",
   "metadata": {},
   "source": [
    "### The Greedy Algorithm <a class=\"anchor\" id=\"the-greedy-algorithm\"></a>"
   ]
  },
  {
   "cell_type": "markdown",
   "metadata": {},
   "source": [
    "Using all of the above components and using Pyro's SVI, we get the complete implementation of BBBVI:"
   ]
  },
  {
   "cell_type": "code",
   "execution_count": 28,
   "metadata": {},
   "outputs": [
    {
     "name": "stdout",
     "output_type": "stream",
     "text": [
      ". . . . . . . . . . . . . . . . . . . . . . . . . . . . . . . . . . . . . . . . . . . . . . . . . . . . . . . . . . . . . . . . . . . . . . . . . . . . . . . . . . . . . . . . . . . . . . . . . . . . Parameters of component 1:\n",
      "loc = -2.01552677154541\n",
      "scale = 0.03500283882021904\n",
      ". . . . . . . . . . . . . . . . . . . . . . . . . . . . . . . . . . . . . . . . . . . . . . . . . . . . . . . . . . . . . . . . . . . . . . . . . . . . . . . . . . . . . . . . . . . . . . . . . . . . Parameters of component 2:\n",
      "loc = 2.0315308570861816\n",
      "scale = 0.04819779098033905\n"
     ]
    },
    {
     "data": {
      "image/png": "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\n",
      "text/plain": [
       "<Figure size 1000x400 with 1 Axes>"
      ]
     },
     "metadata": {},
     "output_type": "display_data"
    }
   ],
   "source": [
    "import os\n",
    "from collections import defaultdict\n",
    "from functools import partial\n",
    "\n",
    "import numpy as np\n",
    "import pyro\n",
    "import pyro.distributions as dist\n",
    "import scipy.stats\n",
    "import torch\n",
    "import torch.distributions.constraints as constraints\n",
    "from matplotlib import pyplot\n",
    "from pyro.infer import SVI, Trace_ELBO\n",
    "from pyro.optim import Adam\n",
    "from pyro.poutine import block, replay, trace\n",
    "\n",
    "# this is for running the notebook in our testing framework\n",
    "smoke_test = ('CI' in os.environ)\n",
    "n_steps = 2 if smoke_test else 10000\n",
    "pyro.set_rng_seed(2)\n",
    "\n",
    "# enable validation (e.g. validate parameters of distributions)\n",
    "pyro.enable_validation(True)\n",
    "\n",
    "# clear the param store in case we're in a REPL\n",
    "pyro.clear_param_store()\n",
    "\n",
    "data = torch.tensor([4.0, 4.2, 3.9, 4.1, 3.8, 3.5, 4.3]*10)\n",
    "\n",
    "def guide(data, index):\n",
    "    scale_q = pyro.param('scale_{}'.format(index), torch.tensor([1.0]), constraints.positive)\n",
    "    loc_q = pyro.param('loc_{}'.format(index), torch.tensor([0.0]))\n",
    "    pyro.sample(\"loc\", dist.Normal(loc_q, scale_q))\n",
    "\n",
    "\n",
    "def model(data):\n",
    "    prior_loc = torch.tensor([0.])\n",
    "    prior_scale = torch.tensor([5.])\n",
    "    loc = pyro.sample('loc', dist.Normal(prior_loc, prior_scale))\n",
    "    scale = torch.tensor([0.1])\n",
    "\n",
    "    with pyro.plate('data', len(data)):\n",
    "\n",
    "        pyro.sample('obs', dist.Normal(loc*loc, scale), obs=data)\n",
    "\n",
    "\n",
    "def relbo(model, guide, *args, **kwargs):\n",
    "\n",
    "    approximation = kwargs.pop('approximation', None)\n",
    "    # Run the guide with the arguments passed to SVI.step() and trace the execution,\n",
    "    # i.e. record all the calls to Pyro primitives like sample() and param().\n",
    "    guide_trace = trace(guide).get_trace(*args, **kwargs)\n",
    "\n",
    "    # We do not want to update parameters of previously fitted components and thus block all\n",
    "    # parameters in the approximation apart from loc.\n",
    "    replayed_approximation = trace(replay(block(approximation, expose=['loc']), guide_trace))\n",
    "    approximation_trace = replayed_approximation.get_trace(*args, **kwargs)\n",
    "\n",
    "    loss_fn = pyro.infer.Trace_ELBO(max_plate_nesting=1).differentiable_loss(model,\n",
    "                                                                             guide,\n",
    "                                                                             *args,\n",
    "                                                                             **kwargs)\n",
    "\n",
    "    relbo = -loss_fn - approximation_trace.log_prob_sum()\n",
    "    \n",
    "    # By convention, the negative (R)ELBO is returned.\n",
    "    return - relbo\n",
    "\n",
    "\n",
    "def approximation(data, components, weights):\n",
    "    assignment = pyro.sample('assignment', dist.Categorical(weights))\n",
    "    result = components[assignment](data)\n",
    "    return result\n",
    "\n",
    "\n",
    "def boosting_bbvi():\n",
    "    # T=2\n",
    "    n_iterations = 2\n",
    "    initial_approximation = partial(guide, index=0)\n",
    "    components = [initial_approximation]\n",
    "    weights = torch.tensor([1.])\n",
    "    wrapped_approximation = partial(approximation, components=components, weights=weights)\n",
    "\n",
    "    locs = [0]\n",
    "    scales = [0]\n",
    "\n",
    "    for t in range(1, n_iterations + 1):\n",
    "        \n",
    "        # Create guide that only takes data as argument\n",
    "        wrapped_guide = partial(guide, index=t)\n",
    "        losses = []\n",
    "\n",
    "        adam_params = {\"lr\": 0.01, \"betas\": (0.90, 0.999)}\n",
    "        optimizer = Adam(adam_params)\n",
    "\n",
    "        # Pass our custom RELBO to SVI as the loss function.\n",
    "        svi = SVI(model, wrapped_guide, optimizer, loss=relbo)\n",
    "        for step in range(n_steps):\n",
    "            # Pass the existing approximation to SVI.\n",
    "            loss = svi.step(data, approximation=wrapped_approximation)\n",
    "            losses.append(loss)\n",
    "\n",
    "            if step % 100 == 0:\n",
    "                print('.', end=' ')\n",
    "\n",
    "        # Update the list of approximation components.\n",
    "        components.append(wrapped_guide)\n",
    "        \n",
    "        # Set new mixture weight.\n",
    "        new_weight = 2 / (t + 1)\n",
    "\n",
    "        # In this specific case, we set the mixture weight of the second component to 0.5.\n",
    "        if t == 2:\n",
    "            new_weight = 0.5\n",
    "        weights = weights * (1-new_weight)\n",
    "        weights = torch.cat((weights, torch.tensor([new_weight])))\n",
    "\n",
    "        # Update the approximation\n",
    "        wrapped_approximation = partial(approximation, components=components, weights=weights)\n",
    "\n",
    "        print('Parameters of component {}:'.format(t))\n",
    "        scale = pyro.param(\"scale_{}\".format(t)).item()\n",
    "        scales.append(scale)\n",
    "        loc = pyro.param(\"loc_{}\".format(t)).item()\n",
    "        locs.append(loc)\n",
    "        print('loc = {}'.format(loc))\n",
    "        print('scale = {}'.format(scale))\n",
    "\n",
    "\n",
    "    # Plot the resulting approximation\n",
    "    X = np.arange(-10, 10, 0.1)\n",
    "    pyplot.figure(figsize=(10, 4), dpi=100).set_facecolor('white')\n",
    "    total_approximation = np.zeros(X.shape)\n",
    "    for i in range(1, n_iterations + 1):\n",
    "        Y = weights[i].item() * scipy.stats.norm.pdf((X - locs[i]) / scales[i])\n",
    "        pyplot.plot(X, Y)\n",
    "        total_approximation += Y\n",
    "    pyplot.plot(X, total_approximation)\n",
    "    pyplot.plot(data.data.numpy(), np.zeros(len(data)), 'k*')\n",
    "    pyplot.title('Approximation of posterior over loc')\n",
    "    pyplot.ylabel('probability density')\n",
    "    pyplot.show()\n",
    "\n",
    "if __name__ == '__main__':\n",
    "    boosting_bbvi()\n"
   ]
  },
  {
   "cell_type": "markdown",
   "metadata": {},
   "source": [
    "We see that boosting BBVI successfully approximates the bimodal posterior distributions with modes around -2 and +2."
   ]
  },
  {
   "cell_type": "markdown",
   "metadata": {},
   "source": [
    "### References\n",
    "\n",
    "[1] Locatello, Francesco, et al. \"Boosting black box variational inference.\" Advances in Neural Information Processing Systems. 2018.\n",
    "\n",
    "[2] Ranganath, Rajesh, Sean Gerrish, and David Blei. \"Black box variational inference.\" Artificial Intelligence and Statistics. 2014.\n",
    "\n",
    "[3] Blei, David M., Alp Kucukelbir, and Jon D. McAuliffe. \"Variational inference: A review for statisticians.\" Journal of the American statistical Association 112.518 (2017): 859-877."
   ]
  }
 ],
 "metadata": {
  "file_extension": ".py",
  "kernelspec": {
   "display_name": "Python 3",
   "language": "python",
   "name": "python3"
  },
  "language_info": {
   "codemirror_mode": {
    "name": "ipython",
    "version": 3
   },
   "file_extension": ".py",
   "mimetype": "text/x-python",
   "name": "python",
   "nbconvert_exporter": "python",
   "pygments_lexer": "ipython3",
   "version": "3.7.5"
  },
  "mimetype": "text/x-python",
  "name": "python",
  "npconvert_exporter": "python",
  "pygments_lexer": "ipython3",
  "version": 3
 },
 "nbformat": 4,
 "nbformat_minor": 2
}
