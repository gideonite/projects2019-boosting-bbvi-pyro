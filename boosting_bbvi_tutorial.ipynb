{
 "cells": [
  {
   "cell_type": "markdown",
   "metadata": {},
   "source": [
    "# Boosting Black Box Variational Inference\n",
    "## Introduction\n",
    "This tutorial demonstrates how to implement boosting black box Variational Inference [1] in Pyro. In boosting Variational Infernce, we approximate a target distribution with a iteratively selected mixture of densities. In cases where a single denisity provided by regular Variational Inference doesn't adequately approximate a target density, boosting VI thus offers a simple way of getting more complex approximations. \n",
    "\n",
    "## Contents\n",
    "* [Theoretical Background](#theoretical-background)\n",
    "    - Variational Inference\n",
    "    - Boosting Black Box Variational Inference\n",
    "* [BBBVI in Pyro](#bbbvi-pyro)"
   ]
  },
  {
   "cell_type": "markdown",
   "metadata": {},
   "source": [
    "## Theoretical Background <a class=\"anchor\" id=\"theoretical-background\"></a>\n",
    "\n",
    "### Variational Inference\n",
    "For an introduction to regular Variational Inference, we recommend first having a look at [the tutorial on SVI in Pyro](https://pyro.ai/examples/svi_part_i.html).\n",
    "\n",
    "Briefly, Variational Inference allows us to find approximations of probability densities which are intractable to compute analytically. First, one chooses a set of tractable densities, a variational family, and then tries to find the element of this set which most closely approximates the target distribution.\n",
    "This approximating density is found by maximizing the Evidence Lower BOund (ELBO):\n",
    "$$ \\mathbb{E}_s[\\text{log} p(x, z)] - \\mathbb{E}_s[\\text{log} s(z)]$$\n",
    "\n",
    "where $s(z)$ is the approximating density and $p(x,z)$ is the target distribution.\n",
    "\n",
    "### Boosting Black Box Variational Inference\n",
    "\n",
    "In boosting BBVI, the approximation takes the form:\n",
    "$$\\sum_{i=1}^T \\gamma_t s_t(z)$$\n",
    "\n",
    "$$\\text{where} \\sum_{i=1}^T \\gamma_t =1$$\n",
    "\n",
    "and $s_t(z)$ are elements of the variational family.\n",
    "\n",
    "The components of the approximation $s_t(z)$ are selected greedily components by maximising the Residual ELBO (RELBO):\n",
    "\n",
    "$$\\mathbb{E}_s[\\text{log} p(x,z)] - \\lambda \\mathbb{E}_s[\\text{log}s(z)] - \\mathbb{E}_s[\\text{log} q^t(z)]$$\n",
    "\n",
    "It's called *black box* variational inference inference because this optimisation does not have to be tailored to the variational family which is being used. Setting $\\lambda$ to 1, regular SVI methods can be used to compute $$\\mathbb{E}_s[\\text{log} p(x,z)] - \\lambda \\mathbb{E}_s[\\text{log}s(z)]$$. See the explanation of the section on the implementation of the RELBO below for an explanation of how we compute the term  $- \\mathbb{E}_s[\\text{log} q^t(z)]$. Imporantly, we do not need to make any additional assumptions about the variational family that's being used to ensure that this algorithm converges. \n",
    "\n",
    "In [1] a number of different ways of finding the mixture weights $\\gamma_t$ are suggested, ranging from fixed step sizes based on the iteration to solving the optimisation problem of finding $\\gamma_t$ that will minimise the RELBo.\n",
    "\n",
    " \n"
   ]
  },
  {
   "cell_type": "markdown",
   "metadata": {},
   "source": [
    "## BBBVI in Pyro <a class=\"anchor\" id=\"bbbvi-pyro\"></a>"
   ]
  },
  {
   "cell_type": "markdown",
   "metadata": {},
   "source": [
    "To implement boosting black box variational inference in Pyro, we need to consider the following three components:\n",
    "1. The approximation components (guides) and the approximation itself.\n",
    "2. The RELBO.\n",
    "3. Running SVI to find new components and update the approximation.\n",
    "\n",
    "We will illustrate these points by looking at simple example: approximating a bimodal posterior.\n"
   ]
  },
  {
   "cell_type": "markdown",
   "metadata": {},
   "source": [
    "### The Model\n",
    "\n",
    "Boosting BBVI is particularly useful in situations where we're trying to approximate mulitmodal posteriors. In this tutorial, we'll thus consider the following model:\n",
    " \n",
    " $$\\mu \\sim \\mathcal{N}(0,5)$$\n",
    " $$y \\sim \\mathcal{N}(\\mu^2, 0.1)$$\n",
    " \n",
    "Additionally, we have some observations of $y$ around +4. We thus expect $p(\\mu|y)$ to be a bimodal distributions with modes around -2 and +2.\n",
    " \n",
    "In Pyro, this model takes the following shape:"
   ]
  },
  {
   "cell_type": "code",
   "execution_count": 17,
   "metadata": {},
   "outputs": [],
   "source": [
    "def model(data):\n",
    "    # Global variables.\n",
    "    prior_loc = torch.tensor([0.])\n",
    "    prior_scale = torch.tensor([5.])\n",
    "    loc = pyro.sample('loc', dist.Normal(prior_loc, prior_scale))\n",
    "    scale = torch.tensor([0.1])\n",
    "\n",
    "    with pyro.plate('data', len(data)):\n",
    "        # Local variables.\n",
    "        pyro.sample('obs', dist.Normal(loc*loc, scale), obs=data)"
   ]
  },
  {
   "cell_type": "markdown",
   "metadata": {},
   "source": [
    "### The Guide\n",
    "\n",
    "Next, we specify the guide which in our case will make up the compoents of our mixture. Recall that in Pyro the guide needs to take the same arguments as the model which is why our guide function also takes the data as an input. \n",
    "\n",
    "We also need to make sure that every `pyro.sample()` statement from the model has a matching `pyro.sample()` statement in the guide. In our case, we include `loc` in both the model and the guide.\n",
    "\n",
    "In contrast to regular SVI, our guide takes an additional argument: `index`. Having this argument allows us to easily create new guides in each iteration of the greedy algorithm. In particular, we use make use of `partial()` from the [functools library](https://docs.python.org/3.7/library/functools.html) to create guides which only take `data` as an argument. The statement `partial(guide, index=t)` creates a guide that will take only `data` as an input and which has trainable parameters `scale_t` and `loc_t`.\n",
    "\n",
    "Putting all of this together, we get the following guide:"
   ]
  },
  {
   "cell_type": "code",
   "execution_count": 6,
   "metadata": {},
   "outputs": [],
   "source": [
    "def guide(data, index):\n",
    "    scale_q = pyro.param('scale_{}'.format(index), torch.tensor([1.0]), constraints.positive)\n",
    "    loc_q = pyro.param('loc_{}'.format(index), torch.tensor([1.0]))\n",
    "    pyro.sample(\"loc\", dist.Normal(loc_q, scale_q))"
   ]
  },
  {
   "cell_type": "markdown",
   "metadata": {},
   "source": [
    "### The RELBO\n",
    "\n",
    "We implement a modified ELBO function which we then pass to Pyro's SVI class to do the heavy lifting for us.\n",
    "\n",
    "Conveniently, the RELBO is very similar to the normal ELBO which allows us to reuse the Pyro's existing ELBO to compute part of it. Specifically, we compute \n",
    "$$E_s[\\text{log} p(x,z)] - \\lambda E_s[\\text{log}s]$$\n",
    "using `Trace_ELBO` and then compute \n",
    "$$ - E_s[\\text{log} q^t]$$\n",
    "using Poutine. For some background on how this works, we recommend going through the tutorials [on Poutine](https://pyro.ai/examples/effect_handlers.html) and [custom SVI objectives](https://pyro.ai/examples/custom_objectives.html)."
   ]
  },
  {
   "cell_type": "code",
   "execution_count": 18,
   "metadata": {},
   "outputs": [],
   "source": [
    "def relbo(model, guide, *args, **kwargs):\n",
    "\n",
    "    approximation = kwargs.pop('approximation', None)\n",
    "    relbo_lambda = kwargs.pop('relbo_lambda', None)\n",
    "    # Run the guide with the arguments passed to SVI.step() and trace the execution,\n",
    "    # i.e. record all the calls to Pyro primitives like sample() and param().\n",
    "    guide_trace = trace(guide).get_trace(*args, **kwargs)\n",
    "\n",
    "    replayed_approximation = trace(replay(block(approximation, expose=['loc']), guide_trace))\n",
    "    approximation_trace = replayed_approximation.get_trace(*args, **kwargs)\n",
    "    # We will acculoclate the various terms of the ELBO in `elbo`.\n",
    "\n",
    "\n",
    "    loss_fn = pyro.infer.Trace_ELBO(max_plate_nesting=1).differentiable_loss(model,\n",
    "                                                                             guide,\n",
    "                                                                             *args,\n",
    "                                                                             **kwargs)\n",
    "\n",
    "    elbo = -loss_fn - approximation_trace.log_prob_sum()\n",
    "\n",
    "    return -elbo"
   ]
  },
  {
   "cell_type": "markdown",
   "metadata": {},
   "source": [
    "### The Approximation"
   ]
  },
  {
   "cell_type": "markdown",
   "metadata": {},
   "source": [
    "Our approximation $\\sum_{i=1}^T \\gamma_t s_t(z)$ consists of a list of components, i.e. the guides from the greedy selection steps, and a list containing the mixture weights of the components. To sample from the approximation, we thus first sample an index of a component according to the mixture weights. In a second step, we get a sample from the corresponding component.\n",
    "\n",
    "Similarly as with the guide, we use `partial(approximation, components=components, weights=weights)` to get an approximation function which has the same signature as the model."
   ]
  },
  {
   "cell_type": "code",
   "execution_count": 169,
   "metadata": {},
   "outputs": [],
   "source": [
    "def approximation(data, components, weights):\n",
    "    assignment = pyro.sample('assignment', dist.Categorical(weights))\n",
    "    result = components[assignment](data)\n",
    "    return result        "
   ]
  },
  {
   "cell_type": "markdown",
   "metadata": {},
   "source": [
    "### The Greedy Algorithm"
   ]
  },
  {
   "cell_type": "code",
   "execution_count": 15,
   "metadata": {},
   "outputs": [
    {
     "name": "stdout",
     "output_type": "stream",
     "text": [
      ". . . . . . . . . . . . . . . . . . . . . . . . . . . . . . . . . . . . . . . . . . . . . . . . . . . . . . . . . . . . . . . . . . . . . . . . . . . . . . . . . . . . . . . . . . . . . . . . . . . . loc = -2.01552677154541\n",
      "scale = 0.03500283882021904\n",
      ". . . . . . . . . . . . . . . . . . . . . . . . . . . . . . . . . . . . . . . . . . . . . . . . . . . . . . . . . . . . . . . . . . . . . . . . . . . . . . . . . . . . . . . . . . . . . . . . . . . . loc = 2.0315308570861816\n",
      "scale = 0.04819779098033905\n"
     ]
    },
    {
     "data": {
      "image/png": "[encoded data removed]",
      "text/plain": [
       "<Figure size 1000x400 with 1 Axes>"
      ]
     },
     "metadata": {},
     "output_type": "display_data"
    }
   ],
   "source": [
    "import os\n",
    "from collections import defaultdict\n",
    "from functools import partial\n",
    "\n",
    "import numpy as np\n",
    "import pyro\n",
    "import pyro.distributions as dist\n",
    "import scipy.stats\n",
    "import torch \n",
    "import torch.distributions.constraints as constraints\n",
    "from matplotlib import pyplot\n",
    "from pyro.infer import SVI, Trace_ELBO\n",
    "from pyro.optim import Adam\n",
    "from pyro.poutine import block, replay, trace\n",
    "\n",
    "# this is for running the notebook in our testing framework\n",
    "smoke_test = ('CI' in os.environ)\n",
    "n_steps = 2 if smoke_test else 10000\n",
    "pyro.set_rng_seed(2)\n",
    "\n",
    "# enable validation (e.g. validate parameters of distributions)\n",
    "pyro.enable_validation(True)\n",
    "\n",
    "# clear the param store in case we're in a REPL\n",
    "pyro.clear_param_store()\n",
    "\n",
    "data = torch.tensor([4.0, 4.2, 3.9, 4.1, 3.8, 3.5, 4.3]*10)\n",
    "\n",
    "def guide(data, index):\n",
    "    scale_q = pyro.param('scale_{}'.format(index), torch.tensor([1.0]), constraints.positive)\n",
    "    loc_q = pyro.param('loc_{}'.format(index), torch.tensor([0.0]))\n",
    "    pyro.sample(\"loc\", dist.Normal(loc_q, scale_q))\n",
    "\n",
    "def model(data):\n",
    "    # Global variables.\n",
    "    prior_loc = torch.tensor([0.])\n",
    "    prior_scale = torch.tensor([5.])\n",
    "    loc = pyro.sample('loc', dist.Normal(prior_loc, prior_scale))\n",
    "    scale = torch.tensor([0.1])\n",
    "\n",
    "    with pyro.plate('data', len(data)):\n",
    "        # Local variables.\n",
    "        pyro.sample('obs', dist.Normal(loc*loc, scale), obs=data)\n",
    "\n",
    "def relbo(model, guide, *args, **kwargs):\n",
    "\n",
    "    approximation = kwargs.pop('approximation', None)\n",
    "    relbo_lambda = kwargs.pop('relbo_lambda', None)\n",
    "    # Run the guide with the arguments passed to SVI.step() and trace the execution,\n",
    "    # i.e. record all the calls to Pyro primitives like sample() and param().\n",
    "    guide_trace = trace(guide).get_trace(*args, **kwargs)\n",
    "\n",
    "    replayed_approximation = trace(replay(block(approximation, expose=['loc']), guide_trace))\n",
    "    approximation_trace = replayed_approximation.get_trace(*args, **kwargs)\n",
    "    # We will acculoclate the various terms of the ELBO in `elbo`.\n",
    "\n",
    "\n",
    "    loss_fn = pyro.infer.Trace_ELBO(max_plate_nesting=1).differentiable_loss(model,\n",
    "                                                                             guide,\n",
    "                                                                             *args,\n",
    "                                                                             **kwargs)\n",
    "\n",
    "    elbo = -loss_fn -  approximation_trace.log_prob_sum()\n",
    "\n",
    "    return -elbo\n",
    "\n",
    "def approximation(data, components, weights):\n",
    "    assignment = pyro.sample('assignment', dist.Categorical(weights))\n",
    "    result = components[assignment](data)\n",
    "    return result\n",
    "\n",
    "def dummy_approximation(data):\n",
    "    scale_q = pyro.param('scale_0', torch.tensor([1.0]), constraints.positive)\n",
    "    loc_q = pyro.param('loc_0', torch.tensor([20.0]))\n",
    "    pyro.sample(\"loc\", dist.Normal(loc_q, scale_q))\n",
    "\n",
    "def boosting_bbvi():\n",
    "    n_iterations = 2\n",
    "    relbo_lambda = 1\n",
    "    initial_approximation = partial(guide, index=0)\n",
    "    components = [initial_approximation]\n",
    "    weights = torch.tensor([1.])\n",
    "    wrapped_approximation = partial(approximation, components=components, weights=weights)\n",
    "\n",
    "    locs = [0]\n",
    "    scales = [0]\n",
    "\n",
    "    duality_gap = []\n",
    "    entropies = []\n",
    "    model_log_likelihoods = []\n",
    "    for t in range(1, n_iterations + 1):\n",
    "        # setup the inference algorithm\n",
    "        wrapped_guide = partial(guide, index=t)\n",
    "        # do gradient steps\n",
    "        losses = []\n",
    "        # Register hooks to monitor gradient norms.\n",
    "\n",
    "        adam_params = {\"lr\": 0.01, \"betas\": (0.90, 0.999)}\n",
    "        optimizer = Adam(adam_params)\n",
    "\n",
    "        svi = SVI(model, wrapped_guide, optimizer, loss=relbo)\n",
    "        for step in range(n_steps):\n",
    "            loss = svi.step(data, approximation=wrapped_approximation, relbo_lambda=relbo_lambda)\n",
    "            losses.append(loss)\n",
    "\n",
    "            if step % 100 == 0:\n",
    "                print('.', end=' ')\n",
    "\n",
    "        components.append(wrapped_guide)\n",
    "        new_weight = 2 / (t + 1)\n",
    "\n",
    "        if t == 2:\n",
    "            new_weight = 0.5\n",
    "        weights = weights * (1-new_weight)\n",
    "        weights = torch.cat((weights, torch.tensor([new_weight])))\n",
    "\n",
    "        wrapped_approximation = partial(approximation, components=components, weights=weights)\n",
    "\n",
    "        scale = pyro.param(\"scale_{}\".format(t)).item()\n",
    "        scales.append(scale)\n",
    "        loc = pyro.param(\"loc_{}\".format(t)).item()\n",
    "        locs.append(loc)\n",
    "        print('loc = {}'.format(loc))\n",
    "        print('scale = {}'.format(scale))\n",
    "\n",
    "\n",
    "    X = np.arange(-10, 10, 0.1)\n",
    "    pyplot.figure(figsize=(10, 4), dpi=100).set_facecolor('white')\n",
    "    total_approximation = np.zeros(X.shape)\n",
    "    for i in range(1, n_iterations + 1):\n",
    "        Y = weights[i].item() * scipy.stats.norm.pdf((X - locs[i]) / scales[i])\n",
    "        pyplot.plot(X, Y)\n",
    "        total_approximation += Y\n",
    "    pyplot.plot(X, total_approximation)\n",
    "    pyplot.plot(data.data.numpy(), np.zeros(len(data)), 'k*')\n",
    "    pyplot.title('Approximation of posterior over loc with lambda={}'.format(relbo_lambda))\n",
    "    pyplot.ylabel('probability density')\n",
    "    pyplot.show()\n",
    "\n",
    "if __name__ == '__main__':\n",
    "    boosting_bbvi()\n"
   ]
  },
  {
   "cell_type": "markdown",
   "metadata": {},
   "source": [
    "### References\n",
    "\n",
    "[1] Locatello, Francesco, et al. \"Boosting black box variational inference.\" Advances in Neural Information Processing Systems. 2018.\n",
    "\n",
    "[2] Ranganath, Rajesh, Sean Gerrish, and David Blei. \"Black box variational inference.\" Artificial Intelligence and Statistics. 2014."
   ]
  }
 ],
 "metadata": {
  "file_extension": ".py",
  "kernelspec": {
   "display_name": "Python 3",
   "language": "python",
   "name": "python3"
  },
  "language_info": {
   "codemirror_mode": {
    "name": "ipython",
    "version": 3
   },
   "file_extension": ".py",
   "mimetype": "text/x-python",
   "name": "python",
   "nbconvert_exporter": "python",
   "pygments_lexer": "ipython3",
   "version": "3.7.5"
  },
  "mimetype": "text/x-python",
  "name": "python",
  "npconvert_exporter": "python",
  "pygments_lexer": "ipython3",
  "version": 3
 },
 "nbformat": 4,
 "nbformat_minor": 2
}
